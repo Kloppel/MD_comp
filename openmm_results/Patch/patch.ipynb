{
 "cells": [
  {
   "cell_type": "code",
   "execution_count": 7,
   "metadata": {},
   "outputs": [],
   "source": [
    "from openmm import *\n",
    "from openmm.app import *\n",
    "from openmm.unit import *\n",
    "from sys import stdout\n",
    "from simtk.openmm.app import Modeller\n",
    "import os\n",
    "\n"
   ]
  },
  {
   "cell_type": "code",
   "execution_count": 8,
   "metadata": {},
   "outputs": [],
   "source": [
    "# Load PDB file\n",
    "pdb = PDBFile('1eru.pdb')"
   ]
  },
  {
   "cell_type": "code",
   "execution_count": 9,
   "metadata": {},
   "outputs": [
    {
     "name": "stdout",
     "output_type": "stream",
     "text": [
      "PDB and Forcefield loaded\n"
     ]
    },
    {
     "name": "stderr",
     "output_type": "stream",
     "text": [
      "/home/pbuser/anaconda3/envs/openmm/lib/python3.12/site-packages/openmm/app/charmmparameterset.py:391: UserWarning: Replacing dihedral <DihedralType: k=0.12; phase=0.0; per=3> with <DihedralType: k=0.0; phase=0.0; per=3>\n",
      "  warnings.warn('Replacing dihedral %r with %r' %\n"
     ]
    }
   ],
   "source": [
    "param_list=['toppar_water_ions.str', 'toppar_ions_won.str', 'toppar_dum_noble_gases.str', 'toppar_all36_synthetic_polymer_patch.str', 'toppar_all36_synthetic_polymer.str', 'toppar_all36_prot_retinol.str', 'toppar_all36_prot_na_combined.str', 'toppar_all36_prot_modify_res.str', 'toppar_all36_prot_model.str', 'toppar_all36_prot_heme.str', 'toppar_all36_prot_fluoro_alkanes.str', 'toppar_all36_prot_c36m_d_aminoacids.str', 'toppar_all36_prot_arg0.str', 'toppar_all36_polymer_solvent.str', 'toppar_all36_na_rna_modified.str', 'toppar_all36_nano_lig_patch.str', 'toppar_all36_nano_lig.str', 'toppar_all36_na_nad_ppi.str', 'toppar_all36_moreions.str', 'toppar_all36_lipid_yeast.str', 'toppar_all36_lipid_tag.str', 'toppar_all36_lipid_sphingo.str', 'toppar_all36_lipid_prot.str', 'toppar_all36_lipid_oxidized.str', 'toppar_all36_lipid_mycobacterial.str', 'toppar_all36_lipid_model.str', 'toppar_all36_lipid_miscellaneous.str', 'toppar_all36_lipid_lps.str', 'toppar_all36_lipid_lnp.str', 'toppar_all36_lipid_inositol.str', 'toppar_all36_lipid_hmmm.str', 'toppar_all36_lipid_ether.str', 'toppar_all36_lipid_detergent.str', 'toppar_all36_lipid_dag.str', 'toppar_all36_lipid_cholesterol.str', 'toppar_all36_lipid_cardiolipin.str', 'toppar_all36_lipid_bacterial.str', 'toppar_all36_lipid_archaeal.str', 'toppar_all36_label_spin.str', 'toppar_all36_label_fluorophore.str', 'toppar_all36_carb_imlab.str', 'toppar_all36_carb_glycopeptide.str', 'toppar_all36_carb_glycolipid.str', 'top_interface.rtf', 'top_all36_prot.rtf', 'top_all36_na.rtf', 'top_all36_lipid.rtf', 'top_all36_cgenff.rtf', 'top_all36_carb.rtf', 'par_interface.prm', 'par_all36_na.prm', 'par_all36m_prot.prm', 'par_all36_lipid.prm', 'par_all36_cgenff.prm', 'par_all36_carb.prm', 'cam.str']\n",
    "param_files= [\"../params/\"+ filename for filename in param_list]\n",
    "params = CharmmParameterSet(*param_files)\n",
    "\n",
    "print(\"PDB and Forcefield loaded\")"
   ]
  },
  {
   "cell_type": "code",
   "execution_count": 10,
   "metadata": {},
   "outputs": [
    {
     "name": "stdout",
     "output_type": "stream",
     "text": [
      "Possible sulfidbonds detected\n"
     ]
    }
   ],
   "source": [
    "\n",
    "# Finds possible sulfidbonds between cys with a maximum distance of 2.4 Angström\n",
    "def find_disulfide_bonds(pdb_structure):\n",
    "    disulfide_bonds = []\n",
    "    atom_pairs = []\n",
    "\n",
    "    for chain in pdb_structure.topology.chains():\n",
    "        cysteines = [res for res in chain.residues() if res.name == 'CYS']\n",
    "        for i, res1 in enumerate(cysteines):\n",
    "            for res2 in cysteines[i+1:]:\n",
    "                # Find the SG atoms of the cysteines\n",
    "                sg1 = next(atom for atom in res1.atoms() if atom.name == 'SG')\n",
    "                sg2 = next(atom for atom in res2.atoms() if atom.name == 'SG')\n",
    "\n",
    "                # Calculate the distance between the two sulfur atoms (SG)\n",
    "                distance = norm(pdb_structure.positions[sg1.index] - pdb_structure.positions[sg2.index])\n",
    "                if distance < 0.24*nanometers:  # 2.4 Å is typical for disulfide bonds\n",
    "                    disulfide_bonds.append((res1, res2))\n",
    "                    atom_pairs.append((sg1.index, sg2.index))\n",
    "    \n",
    "    return disulfide_bonds, atom_pairs\n",
    "\n",
    "print(\"Possible sulfidbonds detected\")"
   ]
  },
  {
   "cell_type": "code",
   "execution_count": 11,
   "metadata": {},
   "outputs": [
    {
     "name": "stdout",
     "output_type": "stream",
     "text": [
      "Found 1 disulfide bonds.\n",
      "disulfidbons detected in pdb\n"
     ]
    }
   ],
   "source": [
    "# Detect disulfide bonds in the PDB structure\n",
    "disulfides, atom_pairs = find_disulfide_bonds(pdb)\n",
    "print(f\"Found {len(disulfides)} disulfide bonds.\")\n",
    "\n",
    "print(\"disulfidbons detected in pdb\")"
   ]
  },
  {
   "cell_type": "code",
   "execution_count": 12,
   "metadata": {},
   "outputs": [
    {
     "ename": "NameError",
     "evalue": "name 'sg1' is not defined",
     "output_type": "error",
     "traceback": [
      "\u001b[0;31m---------------------------------------------------------------------------\u001b[0m",
      "\u001b[0;31mNameError\u001b[0m                                 Traceback (most recent call last)",
      "Cell \u001b[0;32mIn[12], line 3\u001b[0m\n\u001b[1;32m      1\u001b[0m modeller \u001b[38;5;241m=\u001b[39m Modeller(pdb\u001b[38;5;241m.\u001b[39mtopology, pdb\u001b[38;5;241m.\u001b[39mpositions)\n\u001b[0;32m----> 3\u001b[0m disulfides \u001b[38;5;241m=\u001b[39m [(\u001b[43msg1\u001b[49m, sg2)]  \u001b[38;5;66;03m# Add your cysteine residue pairs\u001b[39;00m\n\u001b[1;32m      5\u001b[0m \u001b[38;5;66;03m# Loop through the list of disulfide pairs and add bonds\u001b[39;00m\n\u001b[1;32m      6\u001b[0m \u001b[38;5;28;01mfor\u001b[39;00m sg1, sg2 \u001b[38;5;129;01min\u001b[39;00m disulfides:\n",
      "\u001b[0;31mNameError\u001b[0m: name 'sg1' is not defined"
     ]
    }
   ],
   "source": [
    "\n",
    "modeller = Modeller(pdb.topology, pdb.positions)\n",
    "\n",
    "disulfides = [(res1, res2)]  # Add your cysteine residue pairs\n",
    "\n",
    "# Loop through the list of disulfide pairs and add bonds\n",
    "for sg1, sg2 in disulfides:\n",
    "    modeller.addBond(res1, res2)\n",
    "    print(f\"Disulfide bond added between residue {res1} and residue {res2}\")\n",
    "\n",
    "# Create the system using the patched force field\n",
    "system = forcefield.createSystem(pdb.topology, \n",
    "                                 nonbondedMethod=NoCutoff, \n",
    "                                 nonbondedCutoff=1*nanometer, \n",
    "                                 constraints=HBonds)\n",
    "\n",
    "print(\"Creating System\")\n"
   ]
  },
  {
   "cell_type": "code",
   "execution_count": null,
   "metadata": {},
   "outputs": [],
   "source": []
  },
  {
   "cell_type": "code",
   "execution_count": null,
   "metadata": {},
   "outputs": [],
   "source": [
    "# Write out PSF and PDB files\n",
    "psf = CharmmPsfFile()\n",
    "psf.writeFile(pdb.topology, pdb.positions, '1eru_sul.psf')\n",
    "PDBFile.writeFile(pdb.topology, pdb.positions, open('1eru_sul.pdb', 'w'))\n",
    "\n",
    "print(\"writing pdb and psf file\")"
   ]
  },
  {
   "cell_type": "code",
   "execution_count": null,
   "metadata": {},
   "outputs": [],
   "source": [
    " Set up the integrator and simulation\n",
    "integrator = LangevinMiddleIntegrator(300*kelvin, 1/picosecond, 0.004*picoseconds)\n",
    "simulation = Simulation(pdb.topology, system, integrator)\n",
    "simulation.context.setPositions(pdb.positions)\n",
    "\n",
    "print(\"setting up the integrator and the simulation\")"
   ]
  },
  {
   "cell_type": "code",
   "execution_count": null,
   "metadata": {},
   "outputs": [],
   "source": [
    "# Minimize energy\n",
    "simulation.minimizeEnergy()\n",
    "\n",
    "print(\"minimization\")"
   ]
  },
  {
   "cell_type": "code",
   "execution_count": null,
   "metadata": {},
   "outputs": [],
   "source": [
    "# Add reporters\n",
    "simulation.reporters.append(PDBReporter('1eru_sul_output.pdb', 1000))\n",
    "simulation.reporters.append(StateDataReporter(stdout, 1000, step=True, potentialEnergy=True, temperature=True))\n",
    "\n",
    "print(\"wrinting output\")\n"
   ]
  }
 ],
 "metadata": {
  "kernelspec": {
   "display_name": "base",
   "language": "python",
   "name": "python3"
  },
  "language_info": {
   "codemirror_mode": {
    "name": "ipython",
    "version": 3
   },
   "file_extension": ".py",
   "mimetype": "text/x-python",
   "name": "python",
   "nbconvert_exporter": "python",
   "pygments_lexer": "ipython3",
   "version": "3.12.2"
  }
 },
 "nbformat": 4,
 "nbformat_minor": 2
}
